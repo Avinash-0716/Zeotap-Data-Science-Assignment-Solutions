{
  "nbformat": 4,
  "nbformat_minor": 0,
  "metadata": {
    "colab": {
      "provenance": []
    },
    "kernelspec": {
      "name": "python3",
      "display_name": "Python 3"
    },
    "language_info": {
      "name": "python"
    }
  },
  "cells": [
    {
      "cell_type": "code",
      "source": [
        "# Task - 2  Lookalike Model\n",
        "import pandas as pd\n",
        "import matplotlib.pyplot as plt\n",
        "import seaborn as sns\n",
        "import os\n",
        "from sklearn.preprocessing import StandardScaler\n",
        "from sklearn.metrics.pairwise import cosine_similarity"
      ],
      "metadata": {
        "id": "-R88HxHZ83qk"
      },
      "execution_count": 61,
      "outputs": []
    },
    {
      "cell_type": "code",
      "source": [
        "# Loading datasets for all task\n",
        "customers = pd.read_csv('/content/Customers.csv')\n",
        "products = pd.read_csv('/content/Products.csv')\n",
        "transactions = pd.read_csv('/content/Transactions.csv')"
      ],
      "metadata": {
        "id": "LBSEEPW5-ke1"
      },
      "execution_count": 62,
      "outputs": []
    },
    {
      "cell_type": "code",
      "source": [
        "customer_features = transactions.groupby('CustomerID').agg({\n",
        "    'TotalValue': 'sum',\n",
        "    'Quantity': 'sum',\n",
        "    'Category': lambda x: x.mode()[0]\n",
        "}).reset_index()"
      ],
      "metadata": {
        "id": "OmhxQD2o83th"
      },
      "execution_count": 63,
      "outputs": []
    },
    {
      "cell_type": "code",
      "source": [
        "customer_features = pd.get_dummies(customer_features, columns=['Category'], drop_first=True)"
      ],
      "metadata": {
        "id": "ChWlQtdT83wW"
      },
      "execution_count": 64,
      "outputs": []
    },
    {
      "cell_type": "code",
      "source": [
        "scaler = StandardScaler()\n",
        "customer_features_scaled = scaler.fit_transform(customer_features.drop('CustomerID', axis=1))"
      ],
      "metadata": {
        "id": "X9l0Edj_83zI"
      },
      "execution_count": 65,
      "outputs": []
    },
    {
      "cell_type": "code",
      "source": [
        "similarity_matrix = cosine_similarity(customer_features_scaled)"
      ],
      "metadata": {
        "id": "ngGF6NmN831v"
      },
      "execution_count": 66,
      "outputs": []
    },
    {
      "cell_type": "code",
      "source": [
        "lookalike_results = {}\n",
        "for i in range(20):  # For first 20 customers\n",
        "    customer_id = customer_features.iloc[i]['CustomerID']\n",
        "    similarities = list(enumerate(similarity_matrix[i]))\n",
        "    similarities = sorted(similarities, key=lambda x: x[1], reverse=True)[1:4]  # Top 3 similar customers\n",
        "    lookalike_results[customer_id] = [(customer_features.iloc[j[0]]['CustomerID'], j[1]) for j in similarities]"
      ],
      "metadata": {
        "id": "cxFTwtqC834b"
      },
      "execution_count": 69,
      "outputs": []
    },
    {
      "cell_type": "code",
      "source": [
        "lookalike_df = pd.DataFrame([\n",
        "    {'CustomerID': k,\n",
        "     'LookalikeCustomerID1': v[0][0], 'Score1': v[0][1],\n",
        "     'LookalikeCustomerID2': v[1][0], 'Score2': v[1][1],\n",
        "     'LookalikeCustomerID3': v[2][0], 'Score3': v[2][1]}\n",
        "    for k, v in lookalike_results.items()\n",
        "])"
      ],
      "metadata": {
        "id": "Y2yqUytP837a"
      },
      "execution_count": 70,
      "outputs": []
    },
    {
      "cell_type": "code",
      "source": [
        "os.makedirs('/mnt/data', exist_ok=True)\n",
        "lookalike_df.to_csv('/mnt/data/Lookalike.csv', index=False)"
      ],
      "metadata": {
        "id": "BngcNl-a83-Y"
      },
      "execution_count": 71,
      "outputs": []
    },
    {
      "cell_type": "code",
      "source": [],
      "metadata": {
        "id": "iRYnicZJ84D9"
      },
      "execution_count": 71,
      "outputs": []
    }
  ]
}